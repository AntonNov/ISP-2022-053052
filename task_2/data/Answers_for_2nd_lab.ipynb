{
 "cells": [
  {
   "cell_type": "markdown",
   "id": "88515095",
   "metadata": {
    "pycharm": {
     "name": "#%% md\n"
    },
    "slideshow": {
     "slide_type": "notes"
    }
   },
   "source": [
    "# Теория по 2 ЛР:\n",
    "\n",
    "## 1. Определение Python со всеми пояснениями\n",
    "\n",
    "**Python** — **высокоуровневый язык программирования** **общего назначения** с **динамической строгой неявной типизацией** и\n",
    "**автоматическим управлением памятью**. Поддерживает **утиную типизацию**.\n",
    "\n",
    "**Высокоуровневый язык программирования** — язык программирования, разработанный для быстроты и удобства использования\n",
    "программистом. Основная черта высокоуровневых языков — это **абстракция**, то есть введение смысловых конструкций, кратко\n",
    "описывающих такие структуры данных и операции над ними, описания которых на машинном коде (или другом низкоуровневом\n",
    "языке программирования) очень длинны и сложны для понимания.\n",
    "\n",
    "**Язык общего назначения** применим к широкому спектру областей и не учитывает особенности конкретных сфер знаний.\n",
    "\n",
    "**Динамическая типизация** — приём, используемый в языках программирования и языках спецификации, при котором переменная\n",
    "связывается с типом в момент присваивания значения, а не в момент объявления переменной. Таким образом, в различных\n",
    "участках программы одна и та же переменная может принимать значения разных типов. **Динамическая типизация** упрощает написание программ для работы с меняющимся окружением, при работе с данными\n",
    "переменных типов; при этом отсутствие информации о типе на этапе компиляции повышает вероятность ошибок в исполняемых\n",
    "модулях.\n",
    "\n",
    "**Сильная / слабая типизация** (также иногда говорят строгая / нестрогая). **Сильная типизация** выделяется тем, что\n",
    "язык не позволяет смешивать в выражениях различные типы и не выполняет автоматические неявные преобразования, например\n",
    "нельзя вычесть из строки множество. Языки со **слабой типизацией** выполняют множество неявных преобразований автоматически,\n",
    "даже если может произойти потеря точности или преобразование неоднозначно.\n",
    "\n",
    "Примеры:\n",
    "--\n",
    "\n",
    "**Сильная**: `Java`, `Python`\n",
    "\n",
    "**Слабая**: `C`,`C++`, `JavaScript`\n",
    "\n",
    "**Неявная типизация** не требует явного объявления типа для используемых переменных. Этот вид типизации обычно связывают с **динамической типизацией**, для которой типы данных ассоциируются с конкретными значениями, а переменной можно присвоить значение любого типа.\n",
    "\n",
    "**Утиная типизация** (англ. Duck typing) в ООП-языках — определение факта реализации определённого интерфейса объектом без явного указания или наследования этого интерфейса, а просто по реализации полного набора его методов.\n",
    "\n",
    "Название термина пошло от английского «duck test» («утиный тест»), который в оригинале звучит как:\n",
    "> Если это выглядит как утка, плавает как утка и крякает как утка, то это, вероятно, и есть утка.\n",
    "\n",
    "Оригинальный текст (англ.):\n",
    "\n",
    "> If it looks like a duck, swims like a duck and quacks like a duck, then it probably is a duck.\n",
    "\n",
    "Считается, что объект реализует интерфейс, если он содержит все методы этого интерфейса, независимо от связей в иерархии наследования и принадлежности к какому-либо конкретному классу. Таким образом, корректность использования объекта в качестве значения определённого интерфейса определяется либо статически, компилятором, на основании анализа класса, к которому относится объект и проверки реализации им необходимого набора методов, либо динамически, на основании информации о типах среды выполнения.\n",
    "\n",
    "Такой подход позволяет полиморфно работать с объектами, которые не связаны в иерархии наследования. Достаточно, чтобы все эти объекты поддерживали необходимый набор методов.\n",
    "\n",
    "[Ликбез по типизации в языках программирования](https://habr.com/ru/post/161205/)"
   ]
  },
  {
   "cell_type": "markdown",
   "id": "dc4568d0",
   "metadata": {
    "pycharm": {
     "name": "#%% md\n"
    }
   },
   "source": [
    "## 2. Типы данных и их свойства\n",
    "<p><a href=\"https://commons.wikimedia.org/wiki/File:Python_3._The_standard_type_hierarchy.png#/media/Файл:Python_3._The_standard_type_hierarchy.png\"><img src=\"https://upload.wikimedia.org/wikipedia/commons/1/10/Python_3._The_standard_type_hierarchy.png\" alt=\"Python 3. The standard type hierarchy.png\"></a><br>\n",
    "\n",
    "![](photo_2022-04-23_00-09-41.jpg)"
   ]
  },
  {
   "cell_type": "code",
   "execution_count": 7,
   "id": "862e0001",
   "metadata": {
    "pycharm": {
     "name": "#%%\n"
    }
   },
   "outputs": [],
   "source": [
    "a = 5 # Целое число неограниченного размер (int)\n",
    "\n",
    "b = 5.1 # float Число с плавающей запятой. \n",
    "# Степень точности зависит от платформы, но на практике обычно реализуется в виде 64-битного 53-разрядного числа[75]\n",
    "\n",
    "c = 5 + 5j # complex \n",
    "\n",
    "is_active = True # bool \n",
    "\n",
    "str1 = \"Hello word\" # string\n",
    "\n",
    "list1 = [1, True, 3.] # Список, может содержать внутри себя различные типы данных (list)\n",
    "\n",
    "tuple1 = 1, 2, 3 # tuple \n",
    "\n",
    "set1 = {1, 2, 3} # set. Множество — значения уникальны. \n",
    "# Неупорядочное множество, не содержит дубликатов; может содержать внутри себя различные хешируемые типы данных\t\n",
    "\n",
    "set2 = frozenset(set1)# frozenset — тот же set, но immutable \n",
    "# Неупорядочное множество, не содержит дубликатов; может содержать внутри себя различные хешируемые типы данных\t\n",
    "\n",
    "dict1 = {\"+\": a + b, \"-\": a - b} # dict - отображение (ассоциативный массив)\n",
    "dict2 = {} # по умолчанию dict()\n",
    "\n",
    "el = ... # ellipsis\n",
    "\n",
    "d = None # NoneType\n",
    "\n",
    "f = lambda x: x**2 # function\n",
    "\n",
    "e = bytearray(b'Some ASCII') #т.н. байтовая строка(mutable)\n",
    "\n",
    "j = b\"Some ASCII\" # байты"
   ]
  },
  {
   "cell_type": "markdown",
   "id": "b2d57342",
   "metadata": {
    "pycharm": {
     "name": "#%% md\n"
    }
   },
   "source": [
    "Ключи у dict:\n",
    "---\n",
    "* immutable, т.е int, float, complex, bool, string, tuple, frozenset, None, ellipsis, function\n",
    "* должны поддерживать хеширование hash()\n",
    "\n",
    "```python\n",
    "dict1[None] = \"None\"\n",
    "dict1[...] = \"Ellipsis\"\n",
    "dict1[lambda x: x**2] = \"Функция\"\n",
    "print(dict1)\n",
    "dict1[set1] = \"Множество\" # TypeError: unhashable type: 'set'\n",
    "```\n",
    "Элементы set и frozenset должны содержать хешируемые типы данных\n",
    "--\n",
    "```python\n",
    "set1 = {[]} # TypeError: unhashable type: 'list'\n",
    "```"
   ]
  },
  {
   "cell_type": "markdown",
   "id": "f53a27a0",
   "metadata": {
    "pycharm": {
     "name": "#%% md\n"
    }
   },
   "source": [
    "### Immutable (неизменяемые): int, float, complex, bool, string, tuple, frozenset\n",
    "\n",
    "### Mutable (изменяемые): list, set, dict\n",
    "\n",
    "Что это значит:\n",
    "---\n",
    "* при попытке изменить объект неизменяемый получается новый объект\n",
    "* при попытке изменить объект изменяемый изменяется старый объект"
   ]
  },
  {
   "cell_type": "code",
   "execution_count": 15,
   "id": "3ec5f368",
   "metadata": {
    "pycharm": {
     "name": "#%%\n"
    }
   },
   "outputs": [
    {
     "name": "stdout",
     "output_type": "stream",
     "text": [
      "4489964000\n",
      "4489964032\n"
     ]
    }
   ],
   "source": [
    "a = 5\n",
    "print(id(a))\n",
    "a += 1\n",
    "print(id(a))\n",
    "# Результаты будут разными, поскольку int immutable"
   ]
  },
  {
   "cell_type": "code",
   "execution_count": 16,
   "id": "96647a56",
   "metadata": {
    "pycharm": {
     "name": "#%%\n"
    },
    "scrolled": true
   },
   "outputs": [
    {
     "name": "stdout",
     "output_type": "stream",
     "text": [
      "140687752635520\n",
      "140687752635520\n"
     ]
    }
   ],
   "source": [
    "list1 = [1, 2, 3]\n",
    "print(id(list1))\n",
    "list1.append(4)\n",
    "print(id(list1))\n",
    "# Результаты будут одинаковыми, поскольку list mutable"
   ]
  },
  {
   "cell_type": "markdown",
   "id": "1098b445",
   "metadata": {},
   "source": [
    "#### Почему не стоит использовать изменяемый тип данных как значение по умолчанию"
   ]
  },
  {
   "cell_type": "code",
   "execution_count": 30,
   "id": "eb8c5a77",
   "metadata": {},
   "outputs": [
    {
     "name": "stdout",
     "output_type": "stream",
     "text": [
      "['World', 'Hello']\n",
      "['Hello']\n",
      "['Hello', 'Hello']\n"
     ]
    }
   ],
   "source": [
    "def some_foo1(list1:list=[]):\n",
    "    list1.append(\"Hello\")\n",
    "    print(list1)\n",
    "    \n",
    "some_foo1([\"World\"])\n",
    "some_foo1()\n",
    "some_foo1()"
   ]
  },
  {
   "cell_type": "code",
   "execution_count": 28,
   "id": "cf046152",
   "metadata": {},
   "outputs": [
    {
     "name": "stdout",
     "output_type": "stream",
     "text": [
      "['Hello', 'Hello']\n",
      "['Hello']\n",
      "['Hello']\n"
     ]
    }
   ],
   "source": [
    "def some_foo2(list1:list=None):\n",
    "    list1 = list1 if list1 else []\n",
    "    list1.append(\"Hello\")\n",
    "    print(list1)\n",
    "    \n",
    "    \n",
    "some_foo2([\"Hello\"])\n",
    "some_foo2()\n",
    "some_foo2()"
   ]
  },
  {
   "cell_type": "markdown",
   "id": "a43933ae",
   "metadata": {
    "pycharm": {
     "name": "#%% md\n"
    }
   },
   "source": [
    "## 3. Функции и их аргументы\n",
    "\n",
    "[Что такое *args и **kwargs в Python?](https://habr.com/ru/company/ruvds/blog/482464/)"
   ]
  },
  {
   "cell_type": "code",
   "execution_count": 17,
   "id": "57b49694",
   "metadata": {
    "pycharm": {
     "name": "#%%\n"
    }
   },
   "outputs": [
    {
     "name": "stdout",
     "output_type": "stream",
     "text": [
      "Student Name: Jonathan\n",
      "100 95 88 92 99 \n",
      "\n",
      "Owner Name: Jonathan\n",
      "dog: Brock\n",
      "fish: ['Larry', 'Curly', 'Moe']\n",
      "turtle: Shelldon\n"
     ]
    }
   ],
   "source": [
    "# args\n",
    "def print_scores(student, *scores):\n",
    "   print(f\"Student Name: {student}\")\n",
    "   for score in scores:\n",
    "      print(score, end = \" \")\n",
    "    \n",
    "    \n",
    "print_scores(\"Jonathan\", 100, 95, 88, 92, 99)\n",
    "print(\"\\n\")\n",
    "\n",
    "# kwargs\n",
    "def print_pet_names(owner, **pets):\n",
    "   print(f\"Owner Name: {owner}\")\n",
    "   for pet, name in pets.items():\n",
    "      print(f\"{pet}: {name}\")\n",
    "    \n",
    "    \n",
    "print_pet_names(\"Jonathan\", dog=\"Brock\", fish=[\"Larry\", \"Curly\", \"Moe\"], turtle=\"Shelldon\")"
   ]
  },
  {
   "cell_type": "markdown",
   "id": "86b06f8d",
   "metadata": {
    "pycharm": {
     "name": "#%% md\n"
    }
   },
   "source": [
    "## 4. Lambda-функции\n",
    "\n",
    "Анонимные функции в одну строчку вида:"
   ]
  },
  {
   "cell_type": "code",
   "execution_count": 6,
   "id": "33dfba31",
   "metadata": {
    "pycharm": {
     "name": "#%%\n"
    }
   },
   "outputs": [
    {
     "name": "stdout",
     "output_type": "stream",
     "text": [
      "<function <lambda> at 0x7ff653852430>\n",
      "16\n"
     ]
    }
   ],
   "source": [
    "print(lambda x: x ** 2)\n",
    "print((lambda x: x ** 2)(4))"
   ]
  },
  {
   "cell_type": "markdown",
   "id": "fd6c0a72",
   "metadata": {
    "pycharm": {
     "name": "#%% md\n"
    }
   },
   "source": [
    "## 5. Встроенные функции\n",
    "\n",
    "https://docs.python.org/3/library/functions.html\n",
    "\n",
    "Ниже будут перечислены не все"
   ]
  },
  {
   "cell_type": "code",
   "execution_count": 35,
   "id": "d20a6fb2",
   "metadata": {
    "pycharm": {
     "name": "#%%\n"
    }
   },
   "outputs": [
    {
     "name": "stdout",
     "output_type": "stream",
     "text": [
      "Функция range()\n",
      "[-10, -7, -4, -1, 2, 5, 8]\n",
      "Функция filter(): чёткие элементы\n",
      "[-10, -4, 2, 8]\n",
      "Функция zip()\n",
      "[(-10, 0), (-7, 1), (-4, 2), (-1, 3), (2, 4), (5, 5), (8, 6)]\n",
      "Функция map()\n",
      "[10, 7, 4, 1, 2, 5, 8]\n",
      "Функция sorted()\n",
      "[8, 5, 2, -1, -4, -7, -10]\n",
      "Функция any()\n",
      "True\n",
      "Функция all()\n",
      "False\n",
      "Функция sum()\n",
      "-7\n",
      "Функция min()\n",
      "-10\n",
      "Функция max()\n",
      "8\n",
      "Функции enumerate() и format()\n",
      "0 -10\n",
      "1 -7\n",
      "2 -4\n",
      "3 -1\n",
      "4 2\n",
      "5 5\n",
      "6 8\n",
      "Функции chr() и ord()\n",
      "a\n",
      "97\n"
     ]
    }
   ],
   "source": [
    "start, stop, step = -10, 10, 3\n",
    "\n",
    "#########################\n",
    "# Данные функции возвращают объект-итератор{function_name} object at ...\n",
    "print(\"Функция range()\")\n",
    "list1 = list(range(start, stop, step))\n",
    "print(list1)\n",
    "\n",
    "print(\"Функция filter(): чёткие элементы\")\n",
    "print(list(filter(lambda x: x % 2 == 0, list1)))\n",
    "\n",
    "print(\"Функция zip()\")\n",
    "# Вообще нужна для того, чтобы пробежаться одновременно по двум спискам коллекциям \n",
    "list2 = list(range(7))\n",
    "print(list(zip(list1, list2)))\n",
    "\n",
    "print(\"Функция map()\")\n",
    "print(list(map(abs, list1)))\n",
    "########################\n",
    "\n",
    "\n",
    "print(\"Функция sorted()\")\n",
    "print(sorted(list1, reverse = True))\n",
    "      \n",
    "print(\"Функция any()\")\n",
    "print(any(el % 5 == 0 for el in list1))\n",
    "      \n",
    "print(\"Функция all()\")\n",
    "print(all(el % 5 == 0 for el in list1))\n",
    "      \n",
    "print(\"Функция sum()\")\n",
    "print(sum(list1))\n",
    "      \n",
    "print(\"Функция min()\")\n",
    "print(min(list1))\n",
    "      \n",
    "print(\"Функция max()\")\n",
    "print(max(list1))\n",
    "\n",
    "print(\"Функции enumerate() и format()\")\n",
    "for index, el in enumerate(list1):\n",
    "    print(f\"{index} {el}\")\n",
    "\n",
    "print(\"Функции chr() и ord()\")\n",
    "print(chr(97))\n",
    "print(ord('a'))"
   ]
  },
  {
   "cell_type": "markdown",
   "id": "a6814fcd",
   "metadata": {
    "pycharm": {
     "name": "#%% md\n"
    }
   },
   "source": [
    "## 6. Scopes (LEGB), global, nonlocal\n",
    "L – Local. Включает в себя имена (идентификатор / переменные), указанные в функции (с использованием `def` или `lambda`), а не объявляются с помощью ключевого слова **global**.\n",
    "\n",
    "E – Enclosing. Включает в себя имя из локальной области видимости объемлющих функций  (например, с использованием def или lambda).\n",
    "\n",
    "G – Global. Включает в себя имена, работающих на верхнем уровне модуля или определенных с помощью ключевого слова **global**.\n",
    "\n",
    "B – Build-in . Встроенные встроенные функции, такие как print, input, open и т.д\n",
    "\n",
    "https://www.youtube.com/watch?v=9YBcJYEqXho&list=PL72F75Kukip4Gt7hwPf94qkuWzkVHN594&index=2&ab_channel=%D0%A5%D0%B8%D1%82%D1%80%D1%8B%D0%B9%D0%BF%D0%B8%D1%82%D0%BE%D0%BD"
   ]
  },
  {
   "cell_type": "code",
   "execution_count": 11,
   "id": "401b4c20",
   "metadata": {
    "pycharm": {
     "name": "#%%\n"
    }
   },
   "outputs": [
    {
     "name": "stdout",
     "output_type": "stream",
     "text": [
      "new\n"
     ]
    }
   ],
   "source": [
    "def outer():\n",
    "    x = \"old\"\n",
    "    \n",
    "    def changer():\n",
    "        nonlocal x; x = \"new\"\n",
    "        print(x)\n",
    "        \n",
    "    changer()\n",
    "    \n",
    "outer()"
   ]
  },
  {
   "cell_type": "code",
   "execution_count": 16,
   "id": "38924a1a",
   "metadata": {
    "pycharm": {
     "name": "#%%\n"
    }
   },
   "outputs": [
    {
     "name": "stdout",
     "output_type": "stream",
     "text": [
      "new\n"
     ]
    }
   ],
   "source": [
    "x = \"old\"\n",
    "def changer():\n",
    "    global x; x = \"new\"\n",
    "    print(x)\n",
    "        \n",
    "changer()"
   ]
  },
  {
   "cell_type": "markdown",
   "id": "0a7a6b5f",
   "metadata": {
    "pycharm": {
     "name": "#%% md\n"
    }
   },
   "source": [
    "## 7. Dict comprehension, List comprehension, Set comprehension\n"
   ]
  },
  {
   "cell_type": "code",
   "execution_count": 48,
   "id": "5fc7a95e",
   "metadata": {
    "pycharm": {
     "name": "#%%\n"
    }
   },
   "outputs": [
    {
     "name": "stdout",
     "output_type": "stream",
     "text": [
      "[-10, -4, 2, 8]\n",
      "{2, 5, 8, -10, -7, -4, -1}\n",
      "{10.1: '+', -0.09999999999999964: '-'}\n"
     ]
    }
   ],
   "source": [
    "my_list = [el for el in list1 if el % 2 == 0] # list comprehension\n",
    "print(my_list)\n",
    "\n",
    "my_set = {el for el in list1} # Set comprehension\n",
    "print(my_set)\n",
    "\n",
    "my_dict = {value: key for key, value in dict1.items()} # Dict comprehension\n",
    "print(my_dict)"
   ]
  },
  {
   "cell_type": "markdown",
   "id": "d7d37b7b",
   "metadata": {
    "pycharm": {
     "name": "#%% md\n"
    }
   },
   "source": [
    "## 8. Декораторы\n",
    "\n",
    "* Для того, чтобы понять, как работают декораторы, в первую очередь следует вспомнить, что функции в python являются объектами, соответственно, их можно возвращать из другой функции или передавать в качестве аргумента. Также следует помнить, что функция в python может быть определена и внутри другой функции.\n",
    "\n",
    "* Декораторы — это, по сути, \"обёртки\", которые дают нам возможность изменить поведение функции, не изменяя её код.\n",
    "\n",
    "* Являются функциями второго уровня, то есть, представляют собой функцию, которая принимает и возвращает функцию."
   ]
  },
  {
   "cell_type": "code",
   "execution_count": 49,
   "id": "5d52411d",
   "metadata": {
    "pycharm": {
     "name": "#%%\n"
    }
   },
   "outputs": [
    {
     "name": "stdout",
     "output_type": "stream",
     "text": [
      "Hello\n",
      "\n",
      "Код, отработавший до вызова функции\n",
      "Hello\n",
      "Код, отработаввший после вызова функции\n",
      "\n",
      "Код, отработавший до вызова функции\n",
      "Hello world\n",
      "Код, отработаввший после вызова функции\n",
      "\n"
     ]
    }
   ],
   "source": [
    "def my_shiny_new_decorator(function_to_decorate):\n",
    "    \n",
    "     def the_wrapper_around_the_original_function():\n",
    "         print(\"Код, отработавший до вызова функции\")\n",
    "         function_to_decorate()\n",
    "         print(\"Код, отработаввший после вызова функции\\n\")\n",
    "        \n",
    "     return the_wrapper_around_the_original_function\n",
    "\n",
    " # Представим теперь, что у нас есть функция, которую мы не планируем больше трогать.\n",
    "def simple_function():\n",
    "     print(\"Hello\")\n",
    "\n",
    "simple_function()\n",
    "print()\n",
    "\n",
    "\"\"\" Однако, чтобы изменить её поведение, мы можем декорировать её, то есть просто передать декоратору,\n",
    " который обернет исходную функцию в любой код, который нам потребуется, и вернёт новую,\n",
    " готовую к использованию функцию:\"\"\"\n",
    "simple_function = my_shiny_new_decorator(simple_function)\n",
    "simple_function()\n",
    "\n",
    "\n",
    "\"\"\"Так называемый синтаксический сахар\n",
    "Применяются записью перед телом функции после символа @.\"\"\"\n",
    "@my_shiny_new_decorator\n",
    "def another_simple_function():\n",
    "     print(\"Hello world\")\n",
    "\n",
    "another_simple_function()"
   ]
  },
  {
   "cell_type": "code",
   "execution_count": 52,
   "id": "f080bab4",
   "metadata": {
    "pycharm": {
     "name": "#%%\n"
    }
   },
   "outputs": [
    {
     "name": "stdout",
     "output_type": "stream",
     "text": [
      "[-6, 38, -69, -11, 85, -88, -100, -71, 88, 63, -92, 97, -62, 17, 60, 19, -39, -85, 67, 76]\n",
      "[-69, -11, 85, -71, 63, 97, 17, 19, -39, -85, 67]\n"
     ]
    }
   ],
   "source": [
    "\"\"\"Создать декоратор для функции, которая принимает список чисел.\n",
    "Декоратор должен производить предварительную проверку данных - удалять все четные элементы из списка.\"\"\"\n",
    "\n",
    "from random import randint\n",
    "\n",
    "\n",
    "def my_decorator(func):\n",
    "    def the_wrapper(my_list):\n",
    "        func([elem for elem in my_list if elem % 2 == 1])  # Сама функция\n",
    "\n",
    "    return the_wrapper  # Вернём эту функцию\n",
    "\n",
    "\n",
    "@my_decorator\n",
    "def my_func(my_list):\n",
    "    print(my_list)\n",
    "\n",
    "\n",
    "my_list = [randint(-100, 100) for _ in range(20)]\n",
    "print(my_list)\n",
    "my_func(my_list)"
   ]
  },
  {
   "cell_type": "code",
   "execution_count": null,
   "id": "289c3d50",
   "metadata": {
    "pycharm": {
     "name": "#%%\n"
    }
   },
   "outputs": [],
   "source": [
    "\"\"\"Создать универсальный декоратор, который меняет порядок аргументов в функции на противоположный.\"\"\"\n",
    "\n",
    "\n",
    "def my_decorator(my_func):\n",
    "    def wrapper(*args):\n",
    "        my_func(args[::-1])  # Меняем порядок аргументов\n",
    "\n",
    "    return wrapper\n",
    "\n",
    "\n",
    "@my_decorator\n",
    "def print_args(*args):\n",
    "    [print(*arg) for arg in args]\n",
    "\n",
    "\n",
    "args = (\"first\", 1, [4], 6, 8, {1: True}, \"a\", \"last\")\n",
    "print(*args)\n",
    "print_args(*args)"
   ]
  },
  {
   "cell_type": "markdown",
   "id": "8277c595",
   "metadata": {
    "pycharm": {
     "name": "#%% md\n"
    }
   },
   "source": [
    "## Некоторые встроенные декораторы\n",
    "\n",
    "* **@classmethod** - делает из функции т.н. классовый метод. **@classmethod** используется в родительском классе для определения того, как метод должен вести себя, когда он вызывается дочерними классами. \n",
    "В то время как **@staticmethod** используется, когда мы хотим вернуть одно и то же, независимо от вызываемого дочернего класса.\n",
    "* **@staticmethod** - делает из функции статический метод класса, используется для создания метода, который ничего не знает о классе или экземпляре, через который он был вызван. Он просто получает переданные аргументы, без неявного первого аргумента **self**, и его определение неизменяемо через наследование.\n",
    "* **@property** - конвертация метода класс в атрибуты только для чтения, реализация сеттеров и геттеров в атрибут"
   ]
  },
  {
   "cell_type": "markdown",
   "id": "0f9a1ca4",
   "metadata": {},
   "source": [
    "__@classmethod__\n",
    "--"
   ]
  },
  {
   "cell_type": "code",
   "execution_count": 54,
   "id": "c1328ea0",
   "metadata": {
    "pycharm": {
     "name": "#%%\n"
    }
   },
   "outputs": [
    {
     "name": "stdout",
     "output_type": "stream",
     "text": [
      "SomeClass\n",
      "ChildClass\n"
     ]
    }
   ],
   "source": [
    "class SomeClass:\n",
    "    def __init__(self, value):\n",
    "        self.value = value\n",
    "    @classmethod\n",
    "    def print_name(self):\n",
    "        print(self.__name__)\n",
    "\n",
    "class ChildClass(SomeClass):\n",
    "    pass\n",
    "\n",
    "SomeClass.print_name()\n",
    "ChildClass.print_name()"
   ]
  },
  {
   "cell_type": "markdown",
   "id": "e89ce412",
   "metadata": {},
   "source": [
    "__@staticmethod__\n",
    "--"
   ]
  },
  {
   "cell_type": "code",
   "execution_count": null,
   "id": "9c77d7fb",
   "metadata": {
    "pycharm": {
     "name": "#%%\n"
    }
   },
   "outputs": [],
   "source": [
    "class SomeOtherClass:\n",
    "    @staticmethod\n",
    "    def print_hello():\n",
    "        print(\"Hello!\")\n",
    "\n",
    "SomeOtherClass.print_hello()"
   ]
  },
  {
   "cell_type": "markdown",
   "id": "12c0a56b",
   "metadata": {},
   "source": [
    "__@property__\n",
    "--"
   ]
  },
  {
   "cell_type": "code",
   "execution_count": 15,
   "id": "6f51430e",
   "metadata": {},
   "outputs": [
    {
     "name": "stdout",
     "output_type": "stream",
     "text": [
      "Anton Novikov\n"
     ]
    }
   ],
   "source": [
    "class Person(object):\n",
    "    def __init__(self, first_name, last_name):\n",
    "        \"\"\"Конструктор\"\"\"\n",
    "        self.first_name = first_name\n",
    "        self.last_name = last_name\n",
    "    \n",
    "    @property\n",
    "    def full_name(self):\n",
    "        \"\"\"\n",
    "        Возвращаем полное имя\n",
    "        \"\"\"\n",
    "        return \"%s %s\" % (self.first_name, self.last_name)\n",
    "\n",
    "p = Person(\"Anton\", \"Novikov\")\n",
    "print(p.full_name)\n",
    "# p.full_name = \"Nikita Koznev\" can't set attribute"
   ]
  },
  {
   "cell_type": "markdown",
   "id": "04794b1f",
   "metadata": {
    "pycharm": {
     "name": "#%% md\n"
    }
   },
   "source": [
    "## Параметризированный декоратор"
   ]
  },
  {
   "cell_type": "code",
   "execution_count": 59,
   "id": "0c53aafb",
   "metadata": {
    "pycharm": {
     "name": "#%%\n"
    }
   },
   "outputs": [
    {
     "name": "stdout",
     "output_type": "stream",
     "text": [
      "Создаёт декоратор. Вызывается только один раз для запроса создать декоратор\n",
      "Возврат декоратора\n",
      "Декоратор. Будет вызван один раз в момент декорирования\n",
      "Возврат обёрнутой функции\n",
      "\n",
      "\n",
      "Обёртка\n",
      "simple function\n"
     ]
    }
   ],
   "source": [
    "def decorator_maker():\n",
    "    print(\"Создаёт декоратор. Вызывается только один раз для запроса создать декоратор\")\n",
    "    \n",
    "    def my_decorator(func):\n",
    "        print(\"Декоратор. Будет вызван один раз в момент декорирования\")\n",
    "            \n",
    "        def wrapped():\n",
    "            print(\"Обёртка\")\n",
    "            return func()\n",
    "        \n",
    "        print(\"Возврат обёрнутой функции\")\n",
    "        return wrapped\n",
    "    \n",
    "    print(\"Возврат декоратора\")\n",
    "    return my_decorator\n",
    "\n",
    "\n",
    "@decorator_maker()\n",
    "def simple_function():\n",
    "    print(\"simple function\")\n",
    "\n",
    "print(\"\\n\")    \n",
    "simple_function()"
   ]
  },
  {
   "cell_type": "markdown",
   "id": "c874fd58",
   "metadata": {
    "pycharm": {
     "name": "#%% md\n"
    }
   },
   "source": [
    "## Примеры использования декораторов\n",
    "\n",
    "* Декораторы могут быть использованы для расширения возможностей функций из сторонних библиотек (код которых мы не можем изменять), или для упрощения отладки (мы не хотим изменять код, который ещё не устоялся).\n",
    "* Также полезно использовать декораторы для расширения различных функций одним и тем же кодом, без повторного его переписывания каждый раз\n",
    "* Декораторы оборачивают функции, что может затруднить отладку. Последняя проблема частично решена добавлением в модуле **functools** функции **functools.wraps**, копирующей всю информацию об оборачиваемой функции (её имя, из какого она модуля, её документацию и т.п.) в функцию-обёртку."
   ]
  },
  {
   "cell_type": "markdown",
   "id": "eef7728b",
   "metadata": {
    "pycharm": {
     "name": "#%% md\n"
    }
   },
   "source": [
    "## 9. Работа с файлами\n",
    "\n",
    "https://pythonworld.ru/tipy-dannyx-v-python/fajly-rabota-s-fajlami.html"
   ]
  },
  {
   "cell_type": "markdown",
   "id": "d1e34b70",
   "metadata": {
    "pycharm": {
     "name": "#%% md\n"
    }
   },
   "source": [
    "## 10. Модули и пакеты\n",
    "\n",
    "[Модули](https://github.com/spanickroon/Python-Course/blob/main/python/6.%20%D0%9C%D0%BE%D0%B4%D1%83%D0%BB%D0%B8.ipynb) + https://www.youtube.com/watch?v=hWsBYrASuqU&ab_channel=selfedu\n",
    "\n",
    "[Packages](https://www.youtube.com/watch?v=6K1f0DvW1uM&ab_channel=selfedu)"
   ]
  },
  {
   "cell_type": "markdown",
   "id": "392e60c6",
   "metadata": {
    "pycharm": {
     "name": "#%% md\n"
    }
   },
   "source": [
    "## 11. Парадигмы в Python\n",
    "объектно-ориентированная (ООП):\n",
    "--\n",
    "Дизайн языка Python построен вокруг объектно-ориентированной модели программирования. Реализация ООП в Python является хорошо продуманной, но вместе с тем достаточно специфической по сравнению с другими объектно-ориентированными языками. В языке всё является объектами — либо экземплярами классов, либо экземплярами метаклассов. Исключением является базовый встроенный метакласс `type`. Таким образом, классы на самом деле являются экземплярами метаклассов, а производные метаклассы являются экземплярами метакласса `type`\n",
    "\n",
    "функциональная\n",
    "---\n",
    "Несмотря на то, что Python изначально не задумывался как язык функционального программирования, Python поддерживает программирование в стиле функционального программирования, в частности:\n",
    "\n",
    "* функция является объектом первого класса,\n",
    "* функции высших порядков,\n",
    "* рекурсия,\n",
    "* фокус на работу со списками,\n",
    "* аналог замыканий,\n",
    "* частичное применение функции с помощью метода partial(),\n",
    "* возможность реализации других средств на самом языке (например, карринг).\n",
    "\n",
    "Однако, в отличие от большинства языков, непосредственно ориентированных на функциональное программирование, Python не является чистым языком программирования и код не защищён от побочных эффектов.\n",
    "\n",
    "В стандартной библиотеке Python существуют специальные пакеты `operator` и `functools` для функционального программирования.\n",
    "\n",
    "императивная\n",
    "---\n",
    "Императи́вное программи́рование — это парадигма программирования, для которой характерно следующее:\n",
    "\n",
    "* в исходном коде программы записываются инструкции (команды);\n",
    "* инструкции должны выполняться последовательно;\n",
    "* данные, получаемые при выполнении предыдущих инструкций, могут читаться из памяти последующими инструкциями;\n",
    "* данные, полученные при выполнении инструкции, могут записываться в память."
   ]
  },
  {
   "cell_type": "markdown",
   "id": "6e3d2cc1",
   "metadata": {
    "pycharm": {
     "name": "#%% md\n"
    }
   },
   "source": [
    "## 12. ООП (Абстракция, Инкапсуляция, Наследование, Полиморфизм)\n",
    "\n",
    "Абстракция данных\n",
    "---\n",
    "Абстрагирование означает выделение значимой информации и исключение из рассмотрения незначимой. В ООП рассматривают лишь абстракцию данных (нередко называя её просто «абстракцией»), подразумевая набор наиболее значимых характеристик объекта, доступных остальной программе.\n",
    "\n",
    "Инкапсуляция\n",
    "---\n",
    "Инкапсуляция — свойство системы, позволяющее объединить данные и методы, работающие с ними, в классе. Одни языки (например, C++, Java или Ruby) отождествляют инкапсуляцию с сокрытием, но другие (Smalltalk, Eiffel, OCaml) различают эти понятия.\n",
    "\n",
    "Наследование\n",
    "---\n",
    "Наследование — свойство системы, позволяющее описать новый класс на основе уже существующего с частично или полностью заимствованной функциональностью. Класс, от которого производится наследование, называется базовым, родительским или суперклассом. Новый класс — потомком, наследником, дочерним или производным классом.\n",
    "\n",
    "Полиморфизм\n",
    "---\n",
    "Полиморфизм подтипов (в ООП называемый просто «полиморфизмом») — свойство системы, позволяющее использовать объекты с одинаковым интерфейсом без информации о типе и внутренней структуре объекта. Другой вид полиморфизма — параметрический — в ООП называют обобщённым программированием."
   ]
  },
  {
   "cell_type": "markdown",
   "id": "016712c7",
   "metadata": {
    "pycharm": {
     "name": "#%% md\n"
    }
   },
   "source": [
    "## 13. Абстрактные классы, интерфейсы, магические методы\n",
    "\n",
    "### Магические методы\n",
    "Специальные методы, которые начинаются и заканчиваются с двух нижних подчёркиваний.\n",
    "Обычно используются неявно и с их возможностью можно определять некоторое поведение для функций или библиотек.\n",
    "\n",
    "#### Примеры:\n",
    "для арифметических операций (\\_\\_add__, \\_\\_radd__, \\_\\_iadd__, \\_\\_mul__, \\_\\_div__ ...)\n",
    "\n",
    "для сравнения (\\_\\_cmp__, \\_\\_eq__, \\_\\_neq__ ...)\n",
    "\n",
    "для манипуляции с обьектами (\\_\\_new__, \\_\\_init__, \\_\\_del__ ...)\n",
    "\n",
    "для преобразования типов (\\_\\_int__, \\_\\_str__, ...)\n",
    "\n",
    "для управления отображением в интерпретаторе (\\_\\_format__ ...)\n",
    "\n",
    "для доступа к элементам (\\_\\_getitem__, \\_\\_setitem__, \\_\\_len__ ...)\n",
    "\n",
    "#### Подробнее про магические методы:\n",
    "\n",
    "с помощью инструментов из модуля functools - можно описать сравнение через пару методов, остальные автоматически будут.\n",
    "https://docs.python.org/3.10/reference/datamodel.html#specialnames"
   ]
  },
  {
   "cell_type": "code",
   "execution_count": 68,
   "id": "6bedf2d0",
   "metadata": {},
   "outputs": [],
   "source": [
    "from abc import ABC, abstractmethod\n",
    "\n",
    "\n",
    "class Shape(ABC):\n",
    "\n",
    "    @abstractmethod\n",
    "    def __init__(self):\n",
    "        raise NotImplementedError\n",
    "\n",
    "    @abstractmethod\n",
    "    def perimeter(self):\n",
    "        raise NotImplementedError\n",
    "\n",
    "    @abstractmethod\n",
    "    def area(self):\n",
    "        raise NotImplementedError\n",
    "\n",
    "# s = Shape() Can't instantiate abstract class Shape with abstract methods __init__, area, perimeter\n",
    "\n",
    "# Class Rectangle must implement all abstract methods \n",
    "class Rectangle(Shape):\n",
    "\n",
    "    def __init__(self, a, b, c):\n",
    "        self.a = a\n",
    "        self.b = b\n",
    "        self.c = c"
   ]
  },
  {
   "cell_type": "markdown",
   "id": "e8c24d4d",
   "metadata": {
    "pycharm": {
     "name": "#%% md\n"
    }
   },
   "source": [
    "## 14. Name mangling (искажение имени)"
   ]
  },
  {
   "cell_type": "markdown",
   "id": "5a029192",
   "metadata": {
    "pycharm": {
     "name": "#%% md\n"
    }
   },
   "source": [
    "*  дополнительный ограничивающий механизм\n",
    "* Он применяется для переменных, имя которых начинается с двух нижних подчёркиваний.\n",
    "* Имя таких переменных неявно приводится к другому виду: **\\__name -> _classname__name** .\n",
    "* Доступа из потомков по обычному имени нет совсем.\n",
    "* Доступ снаружи только по искаженному имени.\n",
    "* Применяется иногда для избегания коллизий в сложных иерархиях.\n",
    "* Рекомендуется не злоупотребрять и использовать только при осознаной необходимости."
   ]
  },
  {
   "cell_type": "markdown",
   "id": "26c7ed47",
   "metadata": {
    "pycharm": {
     "name": "#%% md\n"
    }
   },
   "source": [
    "## 15. Разница Наследования, Ассоциации, Агрегации, Композиции\n",
    "[UML для самых маленьких: диаграмма классов](https://habr.com/ru/post/511798/)\n",
    "\n",
    "* __Наследование__ — это когда класс-наследник имеет все поля и методы родительского класса, и, как правило, добавляет какой-то новый функционал или/и поля. Наследование описывается словом __«является»__. Легковой автомобиль является автомобилем. \n",
    "* __Ассоциация__ – это когда один класс включает в себя другой класс в качестве одного из полей. Ассоциация описывается словом __«имеет»__. Автомобиль имеет двигатель. Вполне естественно, что он не будет являться наследником двигателя (хотя такая архитектура тоже возможна в некоторых ситуациях). Например, один студент может учиться у множества преподавателей.\n",
    "Но и преподаватель может учить множество студентов.\n",
    "\n",
    "* __Композиция__ – это когда двигатель не существует отдельно от автомобиля. Он создается при создании автомобиля и полностью управляется автомобилем. В типичном примере, экземпляр двигателя будет создаваться в конструкторе автомобиля.\n",
    "\n",
    "> По сути, разновидность агрегации, только в этом случае, классы, являющиеся частью другого класса, уничтожают, когда уничтожается класс-агрегатор.\n",
    "\n",
    "> Например наше тело состоит из органов, но сами по себе они не жизнеспособны.\n",
    "\n",
    "* __Агрегация__ \n",
    "\n",
    ">Особый тип отношений между классами, когда один класс является частью другого.\n",
    "\n",
    ">Например, рабочее место программиста состоит из стула, стола, компьютера и вентилятора, но при удалении класса «рабочее место», у нас просто останутся все эти классы, только по отдельности."
   ]
  },
  {
   "cell_type": "markdown",
   "id": "b7c01e09",
   "metadata": {
    "pycharm": {
     "name": "#%% md\n"
    }
   },
   "source": [
    "## 16. Diamond problem, MRO"
   ]
  },
  {
   "cell_type": "code",
   "execution_count": 25,
   "id": "25c7602f",
   "metadata": {
    "pycharm": {
     "name": "#%%\n"
    }
   },
   "outputs": [
    {
     "name": "stdout",
     "output_type": "stream",
     "text": [
      "(<class '__main__.D'>, <class '__main__.B'>, <class '__main__.A'>, <class '__main__.С'>, <class '__main__.A'>, <class 'object'>)\n"
     ]
    }
   ],
   "source": [
    "class A: pass\n",
    "class B(A): pass\n",
    "class C(A): pass\n",
    "class D(B, С):pass \n",
    "\n",
    "print(D.__mro__)"
   ]
  },
  {
   "cell_type": "markdown",
   "id": "9e7defe3",
   "metadata": {
    "pycharm": {
     "name": "#%% md\n"
    }
   },
   "source": [
    "* MRO - method resolution order - некоторый порядок выбора метода при вызове.\n",
    "* Актуален при множественном наследовании.\n",
    "* В версиях `Python 2.Х` MRO реализовано поиском в глубину, в `Python 3.Х` поиском в ширину"
   ]
  },
  {
   "cell_type": "markdown",
   "id": "a6bda847",
   "metadata": {
    "pycharm": {
     "name": "#%% md\n"
    }
   },
   "source": [
    "## 17. Standard class-related decorators\n",
    "\n",
    "https://towardsdatascience.com/using-class-decorators-in-python-2807ef52d273"
   ]
  },
  {
   "cell_type": "code",
   "execution_count": 3,
   "id": "06dcc157",
   "metadata": {},
   "outputs": [
    {
     "name": "stdout",
     "output_type": "stream",
     "text": [
      "16\n"
     ]
    }
   ],
   "source": [
    "class Power:\n",
    "    def __init__(self, arg):\n",
    "        self._arg = arg\n",
    "    \n",
    "    def __call__(self, a, b):\n",
    "        return self._arg(a, b) ** 2\n",
    "    \n",
    "@Power\n",
    "def multiply_rogether(a, b):\n",
    "    return a * b\n",
    "\n",
    "print(multiply_rogether(2, 2))"
   ]
  },
  {
   "cell_type": "markdown",
   "id": "a5cef78a",
   "metadata": {
    "pycharm": {
     "name": "#%% md\n"
    }
   },
   "source": [
    "## 18. \\_\\_init()__ и \\_\\_new()__\n",
    "\\_\\_new__ -Создание объекта, перед \\_\\_init__\n",
    "\n",
    "\\_\\_init__ -инициализатор \n"
   ]
  },
  {
   "cell_type": "markdown",
   "id": "a91c9a3b",
   "metadata": {
    "pycharm": {
     "name": "#%% md\n"
    }
   },
   "source": [
    "## 19. Class Object\n",
    "\n",
    "https://docs-python.ru/tutorial/vstroennye-funktsii-interpretatora-python/klass-object/\n",
    "\n",
    "Модель классов. В Python З.Х все классы автоматически становятся производными от `object` и обзаводятся многочисленными изменениями и расширениями классов нового стиля, включая отличающийся алгоритм наследования, координирование встроенных операций и порядок поиска MRO для деревьев с ромбовидными схемами. В Python 2.Х нормальные классы следуют классической модели, а явное наследование от object или других встроенных типов запускает в работу модель нового стиля как вариант."
   ]
  },
  {
   "cell_type": "code",
   "execution_count": 1,
   "id": "3991b1e0",
   "metadata": {
    "pycharm": {
     "name": "#%%\n"
    }
   },
   "outputs": [
    {
     "name": "stdout",
     "output_type": "stream",
     "text": [
      "<class 'type'>\n",
      "<class 'type'>\n",
      "True\n",
      "True\n",
      "False\n"
     ]
    }
   ],
   "source": [
    "# Все классы - это типы и наоборот\n",
    "print(type(type)) \n",
    "print(type (object))\n",
    "\n",
    "# Все классы являются производными от object, # даже type\n",
    "print(isinstance(type, object)) \n",
    "\n",
    "# Типы создают классы и type - это класс\n",
    "print(isinstance(object, type)) # Типы создают классы и type - это класс\n",
    "\n",
    "print(type is object)"
   ]
  },
  {
   "cell_type": "markdown",
   "id": "5853e0ec",
   "metadata": {
    "pycharm": {
     "name": "#%% md\n"
    }
   },
   "source": [
    "## 20. Metaclass, Dataclass, Mixin\n",
    "\n",
    "[Dataclasses](https://habr.com/ru/post/415829/) - появились в `python3.7`\n",
    "\n",
    "занимают меньше оперативной памяти, чем dict, перегружены методы типа **\\_\\_init__**, **\\_\\_repr__**"
   ]
  },
  {
   "cell_type": "code",
   "execution_count": 11,
   "id": "24216d95",
   "metadata": {
    "pycharm": {
     "name": "#%%\n"
    }
   },
   "outputs": [
    {
     "name": "stdout",
     "output_type": "stream",
     "text": [
      "RecordDataClass(shop_id=10, delivery_days=5, delivery_price=10)\n"
     ]
    }
   ],
   "source": [
    "from dataclasses import dataclass\n",
    "\n",
    "@dataclass(frozen=True)\n",
    "class MyDataClass:\n",
    "    shop_id: int\n",
    "    delivery_days: int\n",
    "    delivery_price: int\n",
    "\n",
    "# представляет собой декоратор, содержит только данные\n",
    "\n",
    "record = RecordDataClass(10, 5, 10)\n",
    "print(record)"
   ]
  },
  {
   "cell_type": "markdown",
   "id": "9af06fe3",
   "metadata": {
    "pycharm": {
     "name": "#%% md\n"
    }
   },
   "source": [
    "Mixin"
   ]
  },
  {
   "cell_type": "markdown",
   "id": "1e05b5e2",
   "metadata": {},
   "source": [
    "Metaclass"
   ]
  },
  {
   "cell_type": "markdown",
   "id": "c9e068f9",
   "metadata": {
    "pycharm": {
     "name": "#%% md\n"
    }
   },
   "source": [
    "## 21. \\_\\_slots__\n",
    "Присваивая последовательность строковых имен атрибутов специальному атрибуту **\\_\\_slots__** класса, мы можем позволить классу ограничивать набор допустимых атрибутов, которые будут иметь экземпляры этого класса, а также оптимизировать потребление памяти и возможно скорость работы программы. Однако, как мы увидим, слоты должны использоваться только в приложениях, в которых добавочная сложность очевидно оправдана. Они усложнят ваш код, способны усложнить или нарушить работу кода, с которым вы можете иметь дело, и требовать эффективного универсального ввода в действие."
   ]
  },
  {
   "cell_type": "code",
   "execution_count": 41,
   "id": "b5e0b8f9",
   "metadata": {},
   "outputs": [
    {
     "name": "stdout",
     "output_type": "stream",
     "text": [
      "10\n"
     ]
    }
   ],
   "source": [
    "class limiter:\n",
    "    __slots__= [\"age\", \"name\", \"job\"]\n",
    "    \n",
    "    \n",
    "x = limiter() \n",
    "# x.age Перед использованием потребуется присвоить значение\n",
    "x.age = 10\n",
    "print(x.age)"
   ]
  },
  {
   "cell_type": "markdown",
   "id": "14828e16",
   "metadata": {},
   "source": [
    "Средство слотов задумывалось как способ отлавливания опечаток вроде показан­ ного выше (обнаруживается присваивание недопустимым именам атрибутов, которые отсутствуют в \\_\\_slots__ ), а также как механизм оптимизации. "
   ]
  },
  {
   "cell_type": "markdown",
   "id": "40dd6fc7",
   "metadata": {
    "pycharm": {
     "name": "#%% md\n"
    }
   },
   "source": [
    "## 22. Исключения и работа с ними\n",
    "Обработка исключений поддерживается в Python посредством операторов `try`, `except`, `else`, `finally`, `raise`, образующих блок обработки исключения. В общем случае блок выглядит следующим образом:\n",
    "\n",
    "```python\n",
    "try:\n",
    "    # Здесь код, который может вызвать исключение\n",
    "    raise Exception(\"message\")  # Exception, это один из стандартных типов исключения (всего лишь класс),\n",
    "                                # может использоваться любой другой, в том числе свой\n",
    "except (Тип исключения1, Тип исключения2, …) as Переменная:\n",
    "    # Код в блоке выполняется, если тип исключения совпадает с одним из типов\n",
    "    # (Тип исключения1, Тип исключения2, …) или является наследником одного\n",
    "    # из этих типов.\n",
    "    # Полученное исключение доступно в необязательной Переменной.\n",
    "except (Тип исключения3, Тип исключения4, …) as Переменная:\n",
    "    # Количество блоков except не ограничено\n",
    "    raise  # Сгенерировать исключение \"поверх\" полученного; без параметров - повторно сгенерировать полученное\n",
    "except:\n",
    "    # Будет выполнено при любом исключении, не обработанном типизированными блоками except\n",
    "else:\n",
    "    # Код блока выполняется, если не было поймано исключений.\n",
    "finally:\n",
    "    # Будет исполнено в любом случае, возможно после соответствующего\n",
    "    # блока except или else\n",
    "```\n",
    "Cовместное использование `else`, `except` и `finally` стало возможно только начиная с Python 2.5. Информация о текущем исключении всегда доступна через sys.exc_info(). Кроме значения исключения, Python также сохраняет состояние стека вплоть до точки возбуждения исключения — так называемый traceback.\n",
    "\n",
    "В отличие от компилируемых языков программирования, в Python использование исключения не приводит к значительным накладным расходам (а зачастую даже позволяет ускорить исполнение программ) и очень широко используется. Исключения согласуются с философией Python (10-й пункт «дзена Python» — «Ошибки никогда не должны умалчиваться») и являются одним из средств поддержки «утиной типизации».\n",
    "\n",
    "Иногда вместо явной обработки исключений удобнее использовать блок with (доступен, начиная с Python 2.5)."
   ]
  },
  {
   "cell_type": "markdown",
   "id": "3f80cd44",
   "metadata": {
    "pycharm": {
     "name": "#%% md\n"
    }
   },
   "source": [
    "## 23. Контекстный менеджер\n",
    "Необходимый минимум функциональности контекстного менеджера требует методов **\\_\\_enter__** и **\\_\\_exit__**. "
   ]
  },
  {
   "cell_type": "code",
   "execution_count": 18,
   "id": "85b2fde0",
   "metadata": {
    "pycharm": {
     "name": "#%%\n"
    }
   },
   "outputs": [
    {
     "name": "stdout",
     "output_type": "stream",
     "text": [
      "Исключение было обработано\n"
     ]
    }
   ],
   "source": [
    "class File(object):\n",
    "    def __init__(self, file_name, method):\n",
    "        self.file_obj = open(file_name, method)\n",
    "        \n",
    "    def __enter__(self):\n",
    "        return self.file_obj\n",
    "    \n",
    "    def __exit__(self, type, value, traceback):\n",
    "        print(\"Исключение было обработано\")\n",
    "        self.file_obj.close()\n",
    "        return True\n",
    "\n",
    "with File('demo.txt', 'w') as opened_file:\n",
    "    opened_file.undefined_function()"
   ]
  },
  {
   "cell_type": "markdown",
   "id": "6bc45cef",
   "metadata": {
    "pycharm": {
     "name": "#%% md\n"
    }
   },
   "source": [
    "## 24. Итераторы, генераторы\n",
    "### Генераторы\n",
    "* 2 вида реализации (через функцию и **yield** / генераторное выражение)"
   ]
  },
  {
   "cell_type": "code",
   "execution_count": 55,
   "id": "02cea7fa",
   "metadata": {},
   "outputs": [
    {
     "name": "stdout",
     "output_type": "stream",
     "text": [
      "0 1 4 9 16 25 36 49 64 81 100 121 144 169 196 225 256 289 324 361 "
     ]
    }
   ],
   "source": [
    "def iterate():\n",
    "    for i in range(20):\n",
    "        yield i ** 2\n",
    "        \n",
    "for el in iterate():\n",
    "    print(el, end=\" \")"
   ]
  },
  {
   "cell_type": "code",
   "execution_count": 57,
   "id": "3cef8d92",
   "metadata": {
    "scrolled": true
   },
   "outputs": [
    {
     "name": "stdout",
     "output_type": "stream",
     "text": [
      "0 1 4 9 16 25 36 49 64 81 100 121 144 169 196 225 256 289 324 361 "
     ]
    }
   ],
   "source": [
    "for el in (i**2 for i in range(20)):\n",
    "    print(el, end=)"
   ]
  },
  {
   "cell_type": "markdown",
   "id": "fd346ac5",
   "metadata": {},
   "source": [
    "Написать свой итератор:"
   ]
  },
  {
   "cell_type": "code",
   "execution_count": 53,
   "id": "cad02aee",
   "metadata": {},
   "outputs": [
    {
     "name": "stdout",
     "output_type": "stream",
     "text": [
      "1 4 9 16 25 "
     ]
    }
   ],
   "source": [
    "class Squares:\n",
    "    def __init__(self, start, stop):\n",
    "        self.value = start - 1 \n",
    "        self.stop = stop\n",
    "\n",
    "    def __iter__ (self):\n",
    "        return self\n",
    "\n",
    "    def __next__ (self): \n",
    "        if self.value == self.stop:\n",
    "            raise StopIteration\n",
    "        self.value += 1\n",
    "        \n",
    "        return self.value ** 2\n",
    "    \n",
    "for i in Squares(1, 5):\n",
    "    print(i, end=\" \")"
   ]
  },
  {
   "cell_type": "markdown",
   "id": "c2c89805",
   "metadata": {
    "pycharm": {
     "name": "#%% md\n"
    }
   },
   "source": [
    "## 25. Виртуальное окружение, переменные окружения\n",
    "**Виртуальные окружения** — мощный и удобный инструмент изоляции программ друг от друга и от системы. Изоляция позволяет\n",
    "использовать даже разные версии Python в разных окружениях — при работе над проектами разного \"возраста\" такое часто\n",
    "бывает жизненно необходимо!\n",
    "```bash\n",
    "Скачать модуль для виртуального окружения\n",
    "pip install virtualenv\n",
    "\n",
    "Активировать виртуальное окружение\n",
    "virtualenv .venv\n",
    "source .venv/bin/activate\n",
    "\n",
    "Деактивировать виртуальное окружение\n",
    "deactivate\n",
    "\n",
    "Создать requirements.txt\n",
    "pip freeze > requirements.txt\n",
    "\n",
    "```\n",
    "## 26. Профилирование\n",
    "\n",
    ">Профилирование — сбор характеристик работы программы, таких как время выполнения отдельных фрагментов (обычно подпрограмм), число верно предсказанных условных переходов, число кэш-промахов и т. д. Инструмент, используемый для анализа работы, называют профилировщиком или профайлером (англ. profiler). Обычно выполняется совместно с оптимизацией программы.\n",
    "\n",
    ">Характеристики могут быть аппаратными (время) или вызванные программным обеспечением (функциональный запрос). Инструментальные средства анализа программы чрезвычайно важны для того, чтобы понять поведение программы. Проектировщики ПО нуждаются в таких инструментальных средствах, чтобы оценить, как хорошо выполнена работа. Программисты нуждаются в инструментальных средствах, чтобы проанализировать их программы и идентифицировать критические участки программы.\n",
    "\n",
    ">Это часто используется, чтобы определить, как долго выполняются определенные части программы, как часто они выполняются, или генерировать граф вызовов (Call Graph). Обычно эта информация используется, чтобы идентифицировать те участки программы, которые работают больше всего. Эти трудоёмкие участки могут быть оптимизированы, чтобы выполняться быстрее.\n",
    "Также выделяют анализ покрытия (Code Coverage) — процесс выявления неиспользуемых участков кода при помощи, например, многократного запуска программы.\n",
    "\n",
    "\n",
    "\n",
    "В стандартной библиотеке Python имеется профайлер (модуль **profile**), который можно использовать для сбора статистики о времени работы отдельных функций. Для решения вопроса о том, какой вариант кода работает быстрее, можно использовать модуль `timeit`. Производимые в следующей программе измерения позволяют выяснить, какой из вариантов конкатенации строк более эффективен:"
   ]
  },
  {
   "cell_type": "code",
   "execution_count": 5,
   "id": "28a7adde",
   "metadata": {
    "pycharm": {
     "name": "#%% md\n"
    }
   },
   "outputs": [
    {
     "name": "stdout",
     "output_type": "stream",
     "text": [
      "0.42307265099998403\n",
      "0.1487129150000328\n",
      "0.09533539799986102\n",
      "0.11939754100012578\n"
     ]
    }
   ],
   "source": [
    "from timeit import Timer\n",
    "\n",
    "tmp = \"Python 3.2.2 (default, Jun 12 2011, 15:08:59) [MSC v.1500 32 bit (Intel)] on win32.\"\n",
    "\n",
    "def case1(): # А. инкрементальные конкатенации в цикле\n",
    "    s = \"\"\n",
    "    for i in range(10000):\n",
    "        s += tmp\n",
    "\n",
    "def case2(): # Б. через промежуточный список и метод join\n",
    "    s = []\n",
    "    for i in range(10000):\n",
    "        s.append(tmp)\n",
    "    s = \"\".join(s)\n",
    "\n",
    "def case3(): # В. списковое выражение и метод join\n",
    "    return \"\".join([tmp for i in range(10000)])\n",
    "\n",
    "def case4(): # Г. генераторное выражение и метод join\n",
    "    return \"\".join(tmp for i in range(10000))\n",
    "\n",
    "for v in range(1,5):\n",
    "    print (Timer(\"func()\",\"from __main__ import case%s as func\" % v).timeit(200))"
   ]
  },
  {
   "cell_type": "markdown",
   "id": "56d20ba8",
   "metadata": {
    "pycharm": {
     "name": "#%% md\n"
    }
   },
   "source": [
    "Как и в любом языке программирования, в Python имеются свои приёмы оптимизации кода. Оптимизировать код можно исходя из различных (часто конкурирующих друг с другом) критериев (увеличение быстродействия, уменьшение объёма требуемой оперативной памяти, компактность исходного кода и т. д.). Чаще всего программы оптимизируют по времени исполнения.\n",
    "\n",
    "Здесь есть несколько очевидных для опытных программистов правил.\n",
    "\n",
    "* Не нужно оптимизировать программу, если скорость её выполнения достаточна.\n",
    "* Используемый алгоритм имеет определённую временную сложность, поэтому перед оптимизацией кода программы стоит сначала пересмотреть алгоритм.\n",
    "* Стоит использовать готовые и отлаженные функции и модули, даже если для этого нужно немного обработать данные. Например, в Python есть встроенная функция sorted().\n",
    "* Профилирование поможет выяснить узкие места. Оптимизацию нужно начинать с них.\n",
    "\n",
    "Python имеет следующие особенности и связанные с ними правила оптимизации.\n",
    "\n",
    "* Вызов функций является достаточно дорогостоящей операцией, поэтому внутри вложенных циклов нужно стараться избегать вызова функций или, например, переносить цикл в функции. Функция, обрабатывающая последовательность, эффективнее, чем обработка той же последовательности в цикле вызовом функции.\n",
    "* Старайтесь вынести из глубоко вложенного цикла всё, что можно вычислить во внешних циклах. Доступ к локальным переменным более быстрый, чем к глобальным или чем доступ к полям.\n",
    "Оптимизатор psyco может помочь ускорить работу модуля программы при условии, что модуль не использует динамических свойств языка Python.\n",
    "* В случае, если модуль проводит массированную обработку данных и оптимизация алгоритма и кода не помогает, можно переписать критические участки, скажем, на языке Си или Pyrex.\n",
    "* Инструмент под названием Pychecker поможет проанализировать исходный код на Python и выдать рекомендации по найденным проблемам (например, неиспользуемые имена, изменение сигнатуры метода при его перегрузке и т. п.). В ходе такого статического анализа исходного кода могут быть выявлены и ошибки. Pylint призван решать близкие задачи, но имеет уклон в сторону проверки стиля кода, поиска кода с запашком"
   ]
  },
  {
   "cell_type": "markdown",
   "id": "97da9ff1",
   "metadata": {
    "pycharm": {
     "name": "#%% md\n"
    }
   },
   "source": [
    "## 27. Сложность алгоритмов\n",
    "Вычислительная сложность алгоритмов\n",
    "--\n",
    "https://nbviewer.org/github/spanickroon/Python-Course/blob/main/python/7.%20%D0%92%D1%8B%D1%87%D0%B8%D1%81%D0%BB%D0%B8%D1%82%D0%B5%D0%BB%D1%8C%D0%BD%D0%B0%D1%8F%20%D1%81%D0%BB%D0%BE%D0%B6%D0%BD%D0%BE%D1%81%D1%82%D1%8C%20%D0%B0%D0%BB%D0%B3%D0%BE%D1%80%D0%B8%D1%82%D0%BC%D0%BE%D0%B2.ipynb\n",
    "Во время своей работы программы используют различные структуры данных и алгоритмы, в связи с чем обладают разной эффективностью и скоростью решения задачи. Дать оценку оптимальности решения, реализованного в программе, поможет понятие **вычислительной сложности алгоритмов.**\n",
    "\n",
    "**Вычислительная сложность (алгоритмическая сложность)** - понятие, обозначающее функцию зависимости объема работы алгоритма от размера обрабатываемых данных.\n",
    "\n",
    "**Вычислительная сложность** пытается ответить на центральный вопрос разработки алгоритмов: как изменится время исполнения и объем занятой памяти в зависимости от размера входных данных?. С помощью вычислительной сложности также появляется возможность классификации алгоритмов согласно их производительности.\n",
    "\n",
    "В качестве показателей вычислительной сложности алгоритма выступают:\n",
    "\n",
    "**Временная сложность (время выполнения).**\n",
    "\n",
    "**Временная сложность алгоритма** - это функция от размера входных данных, равная количеству элементарных операций, проделываемых алгоритмом для решения экземпляра задачи указанного размера. Временная сложность алгоритма зачастую может быть определена точно, однако в большинстве случаев искать точное ее значение бессмысленно, т.к. работа алгоритма зависит от ряда факторов, например, скорости процессора, набора его инструкций и т.д.\n",
    "\n",
    "**Асимптотическая сложность.**\n",
    "\n",
    "Асимптотическая сложность оценивает сложность работы алгоритма с использованием асимптотического анализа. Алгоритм с меньшей асимптотической сложностью является более эффективным для всех входных данных."
   ]
  },
  {
   "cell_type": "markdown",
   "id": "9be2f7f6",
   "metadata": {
    "pycharm": {
     "name": "#%% md\n"
    }
   },
   "source": [
    "## 28. Отличия версий Python\n",
    "\n",
    "https://pythonworld.ru/osnovy/python2-vs-python3-razlichiya-sintaksisa.html\n",
    "\n",
    "* 3.6  f-строки"
   ]
  },
  {
   "cell_type": "code",
   "execution_count": 19,
   "id": "74bfd538",
   "metadata": {
    "pycharm": {
     "name": "#%%\n"
    }
   },
   "outputs": [
    {
     "name": "stdout",
     "output_type": "stream",
     "text": [
      "Hello, world\n"
     ]
    }
   ],
   "source": [
    "\"\"\"Операция форматирования для строк (работает по аналогии с функцией printf() из Си),\n",
    "которая использует тот же символ, что и взятие остатка от деления:\"\"\"\n",
    "str_var = \"world\"\n",
    "print(\"Hello, %s\" % str_var)"
   ]
  },
  {
   "cell_type": "code",
   "execution_count": 59,
   "id": "0783559b",
   "metadata": {
    "pycharm": {
     "name": "#%%\n"
    },
    "scrolled": true
   },
   "outputs": [
    {
     "name": "stdout",
     "output_type": "stream",
     "text": [
      "Hello, world\n"
     ]
    }
   ],
   "source": [
    "# В версии 3.6 были добавлены форматированные строковые литералы, или f-строки, которые делают код более читаемым и лаконичным:\n",
    "str_var = \"world\"\n",
    "print(f\"Hello, {str_var}\") # вывод с использованием f-строки"
   ]
  },
  {
   "cell_type": "markdown",
   "source": [
    "* 3.7  dataclasses"
   ],
   "metadata": {
    "collapsed": false,
    "pycharm": {
     "name": "#%% md\n"
    }
   }
  },
  {
   "cell_type": "code",
   "execution_count": null,
   "outputs": [],
   "source": [
    "from dataclasses import dataclass\n",
    "\n",
    "@dataclass\n",
    "class Coordinate:\n",
    "    x: int\n",
    "    y: int\n",
    "    z: int"
   ],
   "metadata": {
    "collapsed": false,
    "pycharm": {
     "name": "#%%\n"
    }
   }
  },
  {
   "cell_type": "markdown",
   "source": [
    "* 3.8  модификатор final, walrus operator"
   ],
   "metadata": {
    "collapsed": false,
    "pycharm": {
     "name": "#%% md\n"
    }
   }
  },
  {
   "cell_type": "code",
   "execution_count": 32,
   "id": "b333b93c",
   "metadata": {},
   "outputs": [],
   "source": [
    "from dataclasses import dataclass\n",
    "\n",
    "@dataclass\n",
    "class Coordinate:\n",
    "    x: int\n",
    "    y: int\n",
    "    z: int"
   ]
  },
  {
   "cell_type": "markdown",
   "id": "877de55b",
   "metadata": {},
   "source": [
    "* 3.8  модификатор final, walrus operator"
   ]
  },
  {
   "cell_type": "markdown",
   "id": "364fb12b",
   "metadata": {},
   "source": [
    "Лучший способ понять, как работает моржовый оператор – этот простой пример. Как и выше, мы хотим присвоить 15 переменной num, а затем вывести значение num. Мы можем выполнить обе эти задачи в одной строке кода, используя новый оператор следующим образом:"
   ]
  },
  {
   "cell_type": "code",
   "execution_count": 60,
   "id": "8125ed47",
   "metadata": {},
   "outputs": [
    {
     "name": "stdout",
     "output_type": "stream",
     "text": [
      "15\n"
     ]
    }
   ],
   "source": [
    "print(num := 15)"
   ]
  },
  {
   "cell_type": "code",
   "execution_count": 27,
   "id": "8539af98",
   "metadata": {},
   "outputs": [],
   "source": [
    "from typing import final\n",
    "\n",
    "@final\n",
    "class Childfree: \n",
    "    pass\n",
    "\n",
    "#'Childfree' is marked as '@final' and should not be subclassed \n",
    "class Baby(Childfree): \n",
    "    pass"
   ]
  },
  {
   "cell_type": "markdown",
   "id": "d2593a28",
   "metadata": {},
   "source": [
    "* 3.10 pattern matching\n",
    "\n",
    "```python\n",
    "answer = [42]\n",
    "match answer:\n",
    "    case []:   \n",
    "        print('i do not find answer')\n",
    "    case [x]:\n",
    "        print('asnwer is 42')\n",
    "    case [x, *_]:\n",
    "        print('i find more than one answers')\n",
    "```"
   ]
  },
  {
   "cell_type": "markdown",
   "id": "8529520b",
   "metadata": {
    "pycharm": {
     "name": "#%% md\n"
    }
   },
   "source": [
    "## 29. Сборщик мусора, работа с памятью\n",
    "https://www.youtube.com/watch?v=4KhVCga8guc&ab_channel=%D0%A5%D0%B8%D1%82%D1%80%D1%8B%D0%B9%D0%BF%D0%B8%D1%82%D0%BE%D0%BD\n",
    "\n",
    "https://habr.com/ru/post/417215/\n",
    "\n",
    "### Менеджер памяти\n",
    "\n",
    "В отличие от других популярных языков, Python не освобождает всю память обратно операционной системе как только он удаляет какой либо объект. Вместо этого, он использует дополнительный менеджер памяти, предназначенный для маленьких объектов (размер которых меньше чем 512 байт). Для работы с такими объектами он выделяет большие блоки памяти, в которых в дальнейшем будет хранится множество маленьких объектов.\n",
    "\n",
    "Как только один из маленьких объект удаляется — память из под него не переходит операционной системе, Python оставляет её для новых объектов с таким же размером. Если в одном из выделенных блоков памяти не осталось объектов, то Python может высвободить его операционной системе. Как правило, высвобождение блоков случается когда скрипт создает множество временных объектов.\n",
    "\n",
    "### Алгоритмы сборки мусора\n",
    "\n",
    "Стандартный интерпретатор питона (CPython) использует сразу два алгоритма, **подсчет ссылок** и **generational garbage collector** (далее GC), более известный как стандартный модуль gc из Python.\n",
    "\n",
    "Алгоритм подсчета ссылок очень простой и эффективный, но у него есть один большой недостаток. Он не умеет определять циклические ссылки. Именно из-за этого, в питоне существует дополнительный сборщик, именуемый поколенческий GC, который следит за объектами с потенциальными циклическими ссылками.\n",
    "\n",
    "В Python, алгоритм подсчета ссылок является фундаментальным и не может быть отключен, тогда как GC опционален и может.\n",
    "\n",
    "### Алгоритм подсчета ссылок\n",
    "\n",
    "\n",
    "Каждый объект в Python содержит дополнительное поле (счетчик ссылок), в котором хранится количество ссылок на него. Как только кто-то ссылается на объект, это поле увеличивается на единицу. Если по какой-то причине ссылка пропадает, то это поле уменьшается на один.\n",
    "\n",
    "Примеры, когда количество ссылок увеличивается:\n",
    "\n",
    "* оператор присваивания\n",
    "* передача аргументов\n",
    "* вставка нового объекта в лист (увеличивается количество ссылок для объекта)\n",
    "* конструция вида foo = bar (foo начинается ссылаться на тот же объект, что и bar)\n",
    "\n",
    "Как только счетчик ссылок для определенного объекта достигает нуля интерпретатор запускает процесс уничтожения объекта. Если удаленный объект содержал ссылки на другие объекты, то эти ссылки также удаляются. Таким образом, удаление одного объекта может повлечь за собой удаление других.\n",
    "\n",
    "Переменные, которые объявлены вне функций, классов и блоков называются глобальными. Как правило, жизненный цикл таких переменных равен жизни Python процесса. Таким образом, количество ссылок на объекты на которые ссылаются глобальные переменные никогда не падает до нуля.\n",
    "\n",
    "Переменные, которые объявлены внутри блока (функции, класса) имеют локальную видимость (т.е. они видны только внутри блока). Как только интерпретатор питона выходит из блока он уничтожает все ссылки созданные локальными переменными внутри него.\n",
    "\n",
    "Вы всегда можете проверить количество ссылок используя функцию `sys.getrefcount`.\n",
    "\n",
    "### Дополнительный сборщик мусора\n",
    "\n",
    "Зачем нам нужен дополнительный алгоритм, когда у нас уже есть подсчет ссылок?\n",
    "\n",
    "К сожалению, классический алгоритм подсчета ссылок имеет один большой недостаток — он не умеет находить циклические ссылки. Циклические ссылки происходят когда один или более объектов ссылаются на друг друга."
   ]
  },
  {
   "cell_type": "markdown",
   "id": "75979360",
   "metadata": {
    "pycharm": {
     "name": "#%% md\n"
    }
   },
   "source": [
    "## 30. GIL\n",
    "Глобальная блокировка интерпретатора — способ синхронизации потоков, который используется в некоторых интерпретируемых языках программирования, например в Python и Ruby.\n",
    "\n",
    "https://www.youtube.com/watch?v=k63OoXhrtY8&ab_channel=PyLounge-%D0%BF%D1%80%D0%BE%D0%B3%D1%80%D0%B0%D0%BC%D0%BC%D0%B8%D1%80%D0%BE%D0%B2%D0%B0%D0%BD%D0%B8%D0%B5%D0%BD%D0%B0Python%D0%B8%D0%B2%D1%81%D1%91%D0%BEIT\n",
    "\n",
    "https://www.youtube.com/watch?v=JIp14T9bvvc&ab_channel=%D0%94%D0%B8%D0%B4%D0%B6%D0%B8%D1%82%D0%B0%D0%BB%D0%B8%D0%B7%D0%B8%D1%80%D1%83%D0%B9%21"
   ]
  },
  {
   "cell_type": "markdown",
   "id": "b175d0bf",
   "metadata": {
    "pycharm": {
     "name": "#%% md\n"
    }
   },
   "source": [
    "## 31. ~~AsyncIO, Threading, Multiprocessing~~"
   ]
  },
  {
   "cell_type": "markdown",
   "id": "c5a229d5",
   "metadata": {
    "pycharm": {
     "name": "#%% md\n"
    }
   },
   "source": [
    "## 32. Дескрипторы"
   ]
  },
  {
   "cell_type": "markdown",
   "id": "1390aa8e",
   "metadata": {
    "pycharm": {
     "name": "#%% md\n"
    }
   },
   "source": [
    "## 33. Модуль collections, functools\n",
    "\n",
    "[Collections](https://pythonworld.ru/moduli/modul-collections.html)\n",
    "* в `OrderedDict` ключи сохраняются в порядке добавления\n",
    "* `namedtuple` схожи c `dataclasses`, но по умолчанию неизменяемые + занимают меньше места в памяти\n",
    "* `Counter` - вид словаря, который позволяет нам считать количество неизменяемых объектов.\n",
    "\n",
    "[Functools](https://pythonworld.ru/moduli/modul-functools.html)"
   ]
  },
  {
   "cell_type": "markdown",
   "id": "7ee90113",
   "metadata": {
    "pycharm": {
     "name": "#%% md\n"
    }
   },
   "source": [
    "## 34. ~~SOLID~~"
   ]
  },
  {
   "cell_type": "markdown",
   "id": "0ffbad24",
   "metadata": {
    "pycharm": {
     "name": "#%%\n"
    }
   },
   "source": [
    "## 35. Тестирование, модули для тестрирования\n",
    "\n",
    "* pytest\n",
    "* unittest\n",
    "* nose"
   ]
  }
 ],
 "metadata": {
  "celltoolbar": "Необработанный формат ячейки",
  "kernelspec": {
   "display_name": "Python 3",
   "language": "python",
   "name": "python3"
  },
  "language_info": {
   "codemirror_mode": {
    "name": "ipython",
    "version": 3
   },
   "file_extension": ".py",
   "mimetype": "text/x-python",
   "name": "python",
   "nbconvert_exporter": "python",
   "pygments_lexer": "ipython3",
   "version": "3.8.8"
  }
 },
 "nbformat": 4,
 "nbformat_minor": 5
}